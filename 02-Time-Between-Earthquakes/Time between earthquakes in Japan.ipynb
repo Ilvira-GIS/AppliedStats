{
 "cells": [
  {
   "cell_type": "markdown",
   "id": "7674b4b1-43be-4299-a265-f98287c9371c",
   "metadata": {},
   "source": [
    "# Time-Between-Earthquakes"
   ]
  },
  {
   "cell_type": "markdown",
   "id": "4442a4d5-5cc1-4db1-8821-0405761b28d7",
   "metadata": {
    "tags": []
   },
   "source": [
    "### Load the Dataset"
   ]
  },
  {
   "cell_type": "code",
   "execution_count": 2,
   "id": "a2f26c32-d1ee-4c3a-8ac2-3b23aeec2244",
   "metadata": {
    "tags": []
   },
   "outputs": [
    {
     "name": "stdout",
     "output_type": "stream",
     "text": [
      "Path to dataset files: C:\\Users\\ilvir\\.cache\\kagglehub\\datasets\\usgs\\earthquake-database\\versions\\1\n"
     ]
    }
   ],
   "source": [
    "import kagglehub\n",
    "\n",
    "# Download latest version\n",
    "path = kagglehub.dataset_download(\"usgs/earthquake-database\")\n",
    "\n",
    "print(\"Path to dataset files:\", path)"
   ]
  },
  {
   "cell_type": "code",
   "execution_count": 3,
   "id": "f7f3ccb5-cc85-4eff-9441-09a65c80f64f",
   "metadata": {
    "tags": []
   },
   "outputs": [
    {
     "data": {
      "text/html": [
       "<div>\n",
       "<style scoped>\n",
       "    .dataframe tbody tr th:only-of-type {\n",
       "        vertical-align: middle;\n",
       "    }\n",
       "\n",
       "    .dataframe tbody tr th {\n",
       "        vertical-align: top;\n",
       "    }\n",
       "\n",
       "    .dataframe thead th {\n",
       "        text-align: right;\n",
       "    }\n",
       "</style>\n",
       "<table border=\"1\" class=\"dataframe\">\n",
       "  <thead>\n",
       "    <tr style=\"text-align: right;\">\n",
       "      <th></th>\n",
       "      <th>Date</th>\n",
       "      <th>Time</th>\n",
       "      <th>Latitude</th>\n",
       "      <th>Longitude</th>\n",
       "      <th>Type</th>\n",
       "      <th>Depth</th>\n",
       "      <th>Depth Error</th>\n",
       "      <th>Depth Seismic Stations</th>\n",
       "      <th>Magnitude</th>\n",
       "      <th>Magnitude Type</th>\n",
       "      <th>...</th>\n",
       "      <th>Magnitude Seismic Stations</th>\n",
       "      <th>Azimuthal Gap</th>\n",
       "      <th>Horizontal Distance</th>\n",
       "      <th>Horizontal Error</th>\n",
       "      <th>Root Mean Square</th>\n",
       "      <th>ID</th>\n",
       "      <th>Source</th>\n",
       "      <th>Location Source</th>\n",
       "      <th>Magnitude Source</th>\n",
       "      <th>Status</th>\n",
       "    </tr>\n",
       "  </thead>\n",
       "  <tbody>\n",
       "    <tr>\n",
       "      <th>0</th>\n",
       "      <td>01/02/1965</td>\n",
       "      <td>13:44:18</td>\n",
       "      <td>19.246</td>\n",
       "      <td>145.616</td>\n",
       "      <td>Earthquake</td>\n",
       "      <td>131.6</td>\n",
       "      <td>NaN</td>\n",
       "      <td>NaN</td>\n",
       "      <td>6.0</td>\n",
       "      <td>MW</td>\n",
       "      <td>...</td>\n",
       "      <td>NaN</td>\n",
       "      <td>NaN</td>\n",
       "      <td>NaN</td>\n",
       "      <td>NaN</td>\n",
       "      <td>NaN</td>\n",
       "      <td>ISCGEM860706</td>\n",
       "      <td>ISCGEM</td>\n",
       "      <td>ISCGEM</td>\n",
       "      <td>ISCGEM</td>\n",
       "      <td>Automatic</td>\n",
       "    </tr>\n",
       "    <tr>\n",
       "      <th>1</th>\n",
       "      <td>01/04/1965</td>\n",
       "      <td>11:29:49</td>\n",
       "      <td>1.863</td>\n",
       "      <td>127.352</td>\n",
       "      <td>Earthquake</td>\n",
       "      <td>80.0</td>\n",
       "      <td>NaN</td>\n",
       "      <td>NaN</td>\n",
       "      <td>5.8</td>\n",
       "      <td>MW</td>\n",
       "      <td>...</td>\n",
       "      <td>NaN</td>\n",
       "      <td>NaN</td>\n",
       "      <td>NaN</td>\n",
       "      <td>NaN</td>\n",
       "      <td>NaN</td>\n",
       "      <td>ISCGEM860737</td>\n",
       "      <td>ISCGEM</td>\n",
       "      <td>ISCGEM</td>\n",
       "      <td>ISCGEM</td>\n",
       "      <td>Automatic</td>\n",
       "    </tr>\n",
       "    <tr>\n",
       "      <th>2</th>\n",
       "      <td>01/05/1965</td>\n",
       "      <td>18:05:58</td>\n",
       "      <td>-20.579</td>\n",
       "      <td>-173.972</td>\n",
       "      <td>Earthquake</td>\n",
       "      <td>20.0</td>\n",
       "      <td>NaN</td>\n",
       "      <td>NaN</td>\n",
       "      <td>6.2</td>\n",
       "      <td>MW</td>\n",
       "      <td>...</td>\n",
       "      <td>NaN</td>\n",
       "      <td>NaN</td>\n",
       "      <td>NaN</td>\n",
       "      <td>NaN</td>\n",
       "      <td>NaN</td>\n",
       "      <td>ISCGEM860762</td>\n",
       "      <td>ISCGEM</td>\n",
       "      <td>ISCGEM</td>\n",
       "      <td>ISCGEM</td>\n",
       "      <td>Automatic</td>\n",
       "    </tr>\n",
       "    <tr>\n",
       "      <th>3</th>\n",
       "      <td>01/08/1965</td>\n",
       "      <td>18:49:43</td>\n",
       "      <td>-59.076</td>\n",
       "      <td>-23.557</td>\n",
       "      <td>Earthquake</td>\n",
       "      <td>15.0</td>\n",
       "      <td>NaN</td>\n",
       "      <td>NaN</td>\n",
       "      <td>5.8</td>\n",
       "      <td>MW</td>\n",
       "      <td>...</td>\n",
       "      <td>NaN</td>\n",
       "      <td>NaN</td>\n",
       "      <td>NaN</td>\n",
       "      <td>NaN</td>\n",
       "      <td>NaN</td>\n",
       "      <td>ISCGEM860856</td>\n",
       "      <td>ISCGEM</td>\n",
       "      <td>ISCGEM</td>\n",
       "      <td>ISCGEM</td>\n",
       "      <td>Automatic</td>\n",
       "    </tr>\n",
       "    <tr>\n",
       "      <th>4</th>\n",
       "      <td>01/09/1965</td>\n",
       "      <td>13:32:50</td>\n",
       "      <td>11.938</td>\n",
       "      <td>126.427</td>\n",
       "      <td>Earthquake</td>\n",
       "      <td>15.0</td>\n",
       "      <td>NaN</td>\n",
       "      <td>NaN</td>\n",
       "      <td>5.8</td>\n",
       "      <td>MW</td>\n",
       "      <td>...</td>\n",
       "      <td>NaN</td>\n",
       "      <td>NaN</td>\n",
       "      <td>NaN</td>\n",
       "      <td>NaN</td>\n",
       "      <td>NaN</td>\n",
       "      <td>ISCGEM860890</td>\n",
       "      <td>ISCGEM</td>\n",
       "      <td>ISCGEM</td>\n",
       "      <td>ISCGEM</td>\n",
       "      <td>Automatic</td>\n",
       "    </tr>\n",
       "    <tr>\n",
       "      <th>5</th>\n",
       "      <td>01/10/1965</td>\n",
       "      <td>13:36:32</td>\n",
       "      <td>-13.405</td>\n",
       "      <td>166.629</td>\n",
       "      <td>Earthquake</td>\n",
       "      <td>35.0</td>\n",
       "      <td>NaN</td>\n",
       "      <td>NaN</td>\n",
       "      <td>6.7</td>\n",
       "      <td>MW</td>\n",
       "      <td>...</td>\n",
       "      <td>NaN</td>\n",
       "      <td>NaN</td>\n",
       "      <td>NaN</td>\n",
       "      <td>NaN</td>\n",
       "      <td>NaN</td>\n",
       "      <td>ISCGEM860922</td>\n",
       "      <td>ISCGEM</td>\n",
       "      <td>ISCGEM</td>\n",
       "      <td>ISCGEM</td>\n",
       "      <td>Automatic</td>\n",
       "    </tr>\n",
       "    <tr>\n",
       "      <th>6</th>\n",
       "      <td>01/12/1965</td>\n",
       "      <td>13:32:25</td>\n",
       "      <td>27.357</td>\n",
       "      <td>87.867</td>\n",
       "      <td>Earthquake</td>\n",
       "      <td>20.0</td>\n",
       "      <td>NaN</td>\n",
       "      <td>NaN</td>\n",
       "      <td>5.9</td>\n",
       "      <td>MW</td>\n",
       "      <td>...</td>\n",
       "      <td>NaN</td>\n",
       "      <td>NaN</td>\n",
       "      <td>NaN</td>\n",
       "      <td>NaN</td>\n",
       "      <td>NaN</td>\n",
       "      <td>ISCGEM861007</td>\n",
       "      <td>ISCGEM</td>\n",
       "      <td>ISCGEM</td>\n",
       "      <td>ISCGEM</td>\n",
       "      <td>Automatic</td>\n",
       "    </tr>\n",
       "    <tr>\n",
       "      <th>7</th>\n",
       "      <td>01/15/1965</td>\n",
       "      <td>23:17:42</td>\n",
       "      <td>-13.309</td>\n",
       "      <td>166.212</td>\n",
       "      <td>Earthquake</td>\n",
       "      <td>35.0</td>\n",
       "      <td>NaN</td>\n",
       "      <td>NaN</td>\n",
       "      <td>6.0</td>\n",
       "      <td>MW</td>\n",
       "      <td>...</td>\n",
       "      <td>NaN</td>\n",
       "      <td>NaN</td>\n",
       "      <td>NaN</td>\n",
       "      <td>NaN</td>\n",
       "      <td>NaN</td>\n",
       "      <td>ISCGEM861111</td>\n",
       "      <td>ISCGEM</td>\n",
       "      <td>ISCGEM</td>\n",
       "      <td>ISCGEM</td>\n",
       "      <td>Automatic</td>\n",
       "    </tr>\n",
       "    <tr>\n",
       "      <th>8</th>\n",
       "      <td>01/16/1965</td>\n",
       "      <td>11:32:37</td>\n",
       "      <td>-56.452</td>\n",
       "      <td>-27.043</td>\n",
       "      <td>Earthquake</td>\n",
       "      <td>95.0</td>\n",
       "      <td>NaN</td>\n",
       "      <td>NaN</td>\n",
       "      <td>6.0</td>\n",
       "      <td>MW</td>\n",
       "      <td>...</td>\n",
       "      <td>NaN</td>\n",
       "      <td>NaN</td>\n",
       "      <td>NaN</td>\n",
       "      <td>NaN</td>\n",
       "      <td>NaN</td>\n",
       "      <td>ISCGEMSUP861125</td>\n",
       "      <td>ISCGEMSUP</td>\n",
       "      <td>ISCGEM</td>\n",
       "      <td>ISCGEM</td>\n",
       "      <td>Automatic</td>\n",
       "    </tr>\n",
       "    <tr>\n",
       "      <th>9</th>\n",
       "      <td>01/17/1965</td>\n",
       "      <td>10:43:17</td>\n",
       "      <td>-24.563</td>\n",
       "      <td>178.487</td>\n",
       "      <td>Earthquake</td>\n",
       "      <td>565.0</td>\n",
       "      <td>NaN</td>\n",
       "      <td>NaN</td>\n",
       "      <td>5.8</td>\n",
       "      <td>MW</td>\n",
       "      <td>...</td>\n",
       "      <td>NaN</td>\n",
       "      <td>NaN</td>\n",
       "      <td>NaN</td>\n",
       "      <td>NaN</td>\n",
       "      <td>NaN</td>\n",
       "      <td>ISCGEM861148</td>\n",
       "      <td>ISCGEM</td>\n",
       "      <td>ISCGEM</td>\n",
       "      <td>ISCGEM</td>\n",
       "      <td>Automatic</td>\n",
       "    </tr>\n",
       "  </tbody>\n",
       "</table>\n",
       "<p>10 rows × 21 columns</p>\n",
       "</div>"
      ],
      "text/plain": [
       "         Date      Time  Latitude  Longitude        Type  Depth  Depth Error  \\\n",
       "0  01/02/1965  13:44:18    19.246    145.616  Earthquake  131.6          NaN   \n",
       "1  01/04/1965  11:29:49     1.863    127.352  Earthquake   80.0          NaN   \n",
       "2  01/05/1965  18:05:58   -20.579   -173.972  Earthquake   20.0          NaN   \n",
       "3  01/08/1965  18:49:43   -59.076    -23.557  Earthquake   15.0          NaN   \n",
       "4  01/09/1965  13:32:50    11.938    126.427  Earthquake   15.0          NaN   \n",
       "5  01/10/1965  13:36:32   -13.405    166.629  Earthquake   35.0          NaN   \n",
       "6  01/12/1965  13:32:25    27.357     87.867  Earthquake   20.0          NaN   \n",
       "7  01/15/1965  23:17:42   -13.309    166.212  Earthquake   35.0          NaN   \n",
       "8  01/16/1965  11:32:37   -56.452    -27.043  Earthquake   95.0          NaN   \n",
       "9  01/17/1965  10:43:17   -24.563    178.487  Earthquake  565.0          NaN   \n",
       "\n",
       "   Depth Seismic Stations  Magnitude Magnitude Type  ...  \\\n",
       "0                     NaN        6.0             MW  ...   \n",
       "1                     NaN        5.8             MW  ...   \n",
       "2                     NaN        6.2             MW  ...   \n",
       "3                     NaN        5.8             MW  ...   \n",
       "4                     NaN        5.8             MW  ...   \n",
       "5                     NaN        6.7             MW  ...   \n",
       "6                     NaN        5.9             MW  ...   \n",
       "7                     NaN        6.0             MW  ...   \n",
       "8                     NaN        6.0             MW  ...   \n",
       "9                     NaN        5.8             MW  ...   \n",
       "\n",
       "   Magnitude Seismic Stations  Azimuthal Gap  Horizontal Distance  \\\n",
       "0                         NaN            NaN                  NaN   \n",
       "1                         NaN            NaN                  NaN   \n",
       "2                         NaN            NaN                  NaN   \n",
       "3                         NaN            NaN                  NaN   \n",
       "4                         NaN            NaN                  NaN   \n",
       "5                         NaN            NaN                  NaN   \n",
       "6                         NaN            NaN                  NaN   \n",
       "7                         NaN            NaN                  NaN   \n",
       "8                         NaN            NaN                  NaN   \n",
       "9                         NaN            NaN                  NaN   \n",
       "\n",
       "   Horizontal Error  Root Mean Square               ID     Source  \\\n",
       "0               NaN               NaN     ISCGEM860706     ISCGEM   \n",
       "1               NaN               NaN     ISCGEM860737     ISCGEM   \n",
       "2               NaN               NaN     ISCGEM860762     ISCGEM   \n",
       "3               NaN               NaN     ISCGEM860856     ISCGEM   \n",
       "4               NaN               NaN     ISCGEM860890     ISCGEM   \n",
       "5               NaN               NaN     ISCGEM860922     ISCGEM   \n",
       "6               NaN               NaN     ISCGEM861007     ISCGEM   \n",
       "7               NaN               NaN     ISCGEM861111     ISCGEM   \n",
       "8               NaN               NaN  ISCGEMSUP861125  ISCGEMSUP   \n",
       "9               NaN               NaN     ISCGEM861148     ISCGEM   \n",
       "\n",
       "  Location Source Magnitude Source     Status  \n",
       "0          ISCGEM           ISCGEM  Automatic  \n",
       "1          ISCGEM           ISCGEM  Automatic  \n",
       "2          ISCGEM           ISCGEM  Automatic  \n",
       "3          ISCGEM           ISCGEM  Automatic  \n",
       "4          ISCGEM           ISCGEM  Automatic  \n",
       "5          ISCGEM           ISCGEM  Automatic  \n",
       "6          ISCGEM           ISCGEM  Automatic  \n",
       "7          ISCGEM           ISCGEM  Automatic  \n",
       "8          ISCGEM           ISCGEM  Automatic  \n",
       "9          ISCGEM           ISCGEM  Automatic  \n",
       "\n",
       "[10 rows x 21 columns]"
      ]
     },
     "execution_count": 3,
     "metadata": {},
     "output_type": "execute_result"
    }
   ],
   "source": [
    "import pandas as pd\n",
    "import numpy as np\n",
    "from scipy.stats import expon, kstest, probplot\n",
    "import matplotlib.pyplot as plt\n",
    "\n",
    "# Load data\n",
    "df = pd.read_csv(r\"C:\\Users\\ilvir\\.cache\\kagglehub\\datasets\\usgs\\earthquake-database\\versions\\1\\database.csv\") \n",
    "\n",
    "df.head(10)"
   ]
  },
  {
   "cell_type": "markdown",
   "id": "94d92f6c-57b8-4120-8a52-b28dff3e2af4",
   "metadata": {},
   "source": [
    "### Preprocess the Data"
   ]
  },
  {
   "cell_type": "code",
   "execution_count": 6,
   "id": "a90e3134-204c-4aa2-aa97-0f8e102c27d0",
   "metadata": {
    "tags": []
   },
   "outputs": [],
   "source": [
    "# Remove unused columns\n",
    "df = df.drop(columns=[\"Depth Error\", \"Depth Seismic Stations\", \"Magnitude Type\", \"Magnitude Error\", \"Magnitude Seismic Stations\",\n",
    "                      \"Azimuthal Gap\", \"Horizontal Distance\", \"Horizontal Error\", \"Root Mean Square\", \"ID\", \"Source\",\n",
    "                      \"Location Source\", \"Magnitude Source\", \"Status\"])  "
   ]
  },
  {
   "cell_type": "code",
   "execution_count": 8,
   "id": "cd502da5-d2cb-4a16-a6bf-b73b209567b3",
   "metadata": {
    "tags": []
   },
   "outputs": [
    {
     "data": {
      "text/html": [
       "<div>\n",
       "<style scoped>\n",
       "    .dataframe tbody tr th:only-of-type {\n",
       "        vertical-align: middle;\n",
       "    }\n",
       "\n",
       "    .dataframe tbody tr th {\n",
       "        vertical-align: top;\n",
       "    }\n",
       "\n",
       "    .dataframe thead th {\n",
       "        text-align: right;\n",
       "    }\n",
       "</style>\n",
       "<table border=\"1\" class=\"dataframe\">\n",
       "  <thead>\n",
       "    <tr style=\"text-align: right;\">\n",
       "      <th></th>\n",
       "      <th>Date</th>\n",
       "      <th>Time</th>\n",
       "      <th>Latitude</th>\n",
       "      <th>Longitude</th>\n",
       "      <th>Type</th>\n",
       "      <th>Depth</th>\n",
       "      <th>Magnitude</th>\n",
       "      <th>TimeDiff</th>\n",
       "    </tr>\n",
       "  </thead>\n",
       "  <tbody>\n",
       "    <tr>\n",
       "      <th>55</th>\n",
       "      <td>1965-02-16 12:24:10</td>\n",
       "      <td>12:24:10</td>\n",
       "      <td>38.908</td>\n",
       "      <td>142.095</td>\n",
       "      <td>Earthquake</td>\n",
       "      <td>53.5</td>\n",
       "      <td>5.7</td>\n",
       "      <td>NaN</td>\n",
       "    </tr>\n",
       "    <tr>\n",
       "      <th>89</th>\n",
       "      <td>1965-03-16 16:46:17</td>\n",
       "      <td>16:46:17</td>\n",
       "      <td>40.697</td>\n",
       "      <td>143.032</td>\n",
       "      <td>Earthquake</td>\n",
       "      <td>32.1</td>\n",
       "      <td>6.4</td>\n",
       "      <td>676.368611</td>\n",
       "    </tr>\n",
       "    <tr>\n",
       "      <th>101</th>\n",
       "      <td>1965-03-29 10:47:38</td>\n",
       "      <td>10:47:38</td>\n",
       "      <td>40.687</td>\n",
       "      <td>142.915</td>\n",
       "      <td>Earthquake</td>\n",
       "      <td>30.0</td>\n",
       "      <td>6.4</td>\n",
       "      <td>306.022500</td>\n",
       "    </tr>\n",
       "    <tr>\n",
       "      <th>111</th>\n",
       "      <td>1965-04-06 05:31:59</td>\n",
       "      <td>05:31:59</td>\n",
       "      <td>36.083</td>\n",
       "      <td>139.968</td>\n",
       "      <td>Earthquake</td>\n",
       "      <td>50.0</td>\n",
       "      <td>5.7</td>\n",
       "      <td>186.739167</td>\n",
       "    </tr>\n",
       "    <tr>\n",
       "      <th>121</th>\n",
       "      <td>1965-04-12 20:41:17</td>\n",
       "      <td>20:41:17</td>\n",
       "      <td>30.317</td>\n",
       "      <td>138.702</td>\n",
       "      <td>Earthquake</td>\n",
       "      <td>421.7</td>\n",
       "      <td>5.6</td>\n",
       "      <td>159.155000</td>\n",
       "    </tr>\n",
       "  </tbody>\n",
       "</table>\n",
       "</div>"
      ],
      "text/plain": [
       "                   Date      Time  Latitude  Longitude        Type  Depth  \\\n",
       "55  1965-02-16 12:24:10  12:24:10    38.908    142.095  Earthquake   53.5   \n",
       "89  1965-03-16 16:46:17  16:46:17    40.697    143.032  Earthquake   32.1   \n",
       "101 1965-03-29 10:47:38  10:47:38    40.687    142.915  Earthquake   30.0   \n",
       "111 1965-04-06 05:31:59  05:31:59    36.083    139.968  Earthquake   50.0   \n",
       "121 1965-04-12 20:41:17  20:41:17    30.317    138.702  Earthquake  421.7   \n",
       "\n",
       "     Magnitude    TimeDiff  \n",
       "55         5.7         NaN  \n",
       "89         6.4  676.368611  \n",
       "101        6.4  306.022500  \n",
       "111        5.7  186.739167  \n",
       "121        5.6  159.155000  "
      ]
     },
     "execution_count": 8,
     "metadata": {},
     "output_type": "execute_result"
    }
   ],
   "source": [
    "# Filter Japan earthquakes (latitude/longitude box approx. for Japan)\n",
    "japan_quakes = df[\n",
    "    (df[\"Latitude\"].between(24.0, 45.5)) & \n",
    "    (df[\"Longitude\"].between(122.0, 146.0))\n",
    "]\n",
    "\n",
    "# Convert date/time to datetime and sort\n",
    "japan_quakes = japan_quakes.copy()  # Create a copy to avoid SettingWithCopyWarning\n",
    "japan_quakes[\"Date\"] = pd.to_datetime(japan_quakes[\"Date\"] + \" \" + japan_quakes[\"Time\"], errors='coerce')\n",
    "japan_quakes = japan_quakes.sort_values(\"Date\")\n",
    "\n",
    "# Calculate inter-arrival times in hours\n",
    "japan_quakes[\"TimeDiff\"] = japan_quakes[\"Date\"].diff().dt.total_seconds() / 3600\n",
    "\n",
    "japan_quakes.head()"
   ]
  },
  {
   "cell_type": "code",
   "execution_count": 10,
   "id": "03c448b5-e481-44b2-881f-f43cc7787057",
   "metadata": {
    "tags": []
   },
   "outputs": [
    {
     "data": {
      "text/plain": [
       "array([676.36861111, 306.0225    , 186.73916667, ...,  11.39444444,\n",
       "       831.25388889,  55.49361111])"
      ]
     },
     "execution_count": 10,
     "metadata": {},
     "output_type": "execute_result"
    }
   ],
   "source": [
    "inter_arrival = japan_quakes[\"TimeDiff\"].dropna().values  # Remove NaN from the first row\n",
    "inter_arrival"
   ]
  },
  {
   "cell_type": "code",
   "execution_count": 12,
   "id": "b7a3f303-5681-42dd-ae0a-9973e3ca539c",
   "metadata": {
    "tags": []
   },
   "outputs": [
    {
     "name": "stdout",
     "output_type": "stream",
     "text": [
      "Number of zero inter-arrival times removed: 1\n",
      "Number of potential aftershocks (inter-arrival ≤ 240 hours): 1144\n"
     ]
    }
   ],
   "source": [
    "# Remove zero values for log scale and histogram\n",
    "non_zero_inter_arrival = inter_arrival[inter_arrival > 0]\n",
    "print(f\"Number of zero inter-arrival times removed: {len(inter_arrival) - len(non_zero_inter_arrival)}\")\n",
    "\n",
    "# Estimate aftershocks (assume inter-arrival < 10 days = 24 hours indicates potential aftershocks https://www.jma.go.jp/jma/en/Activities/aftershock.html)\n",
    "aftershock_threshold = 10*24  # 10 days in hours\n",
    "num_aftershocks = np.sum(inter_arrival <= aftershock_threshold)\n",
    "print(f\"Number of potential aftershocks (inter-arrival ≤ {aftershock_threshold} hours): {num_aftershocks}\")"
   ]
  },
  {
   "cell_type": "code",
   "execution_count": 14,
   "id": "4226f38c-baca-484f-815f-1718c7e9ccde",
   "metadata": {
    "tags": []
   },
   "outputs": [],
   "source": [
    "# Filter out zero inter-arrival times and aftershocks (<= 240 hours)\n",
    "declustered_inter_arrival = inter_arrival[(inter_arrival > 0) & (inter_arrival > aftershock_threshold)]\n",
    "\n",
    "# Subtract aftershock threshold from declustered inter-arrival times\n",
    "declustered_inter_arrival = declustered_inter_arrival - aftershock_threshold"
   ]
  },
  {
   "cell_type": "markdown",
   "id": "f160b3b3-9334-4721-a768-4cf0e3ff56b1",
   "metadata": {},
   "source": [
    "### Fit Exponential Distribution"
   ]
  },
  {
   "cell_type": "markdown",
   "id": "0b95c7d9-5d9c-4345-a30d-500c5eb635a0",
   "metadata": {},
   "source": [
    "The Exponential distribution models the time between earthquakes"
   ]
  },
  {
   "cell_type": "code",
   "execution_count": 18,
   "id": "ea732561-38e7-434c-a251-f7ec44c1eeb7",
   "metadata": {
    "tags": []
   },
   "outputs": [
    {
     "name": "stdout",
     "output_type": "stream",
     "text": [
      "Exponential: Estimated rate parameter (lambda): 0.002727 quakes per hour\n",
      "Exponential: Mean inter-arrival time: 366.69 hours\n",
      "Exponential KS Test: Statistic=0.0383, p-value=0.3039\n"
     ]
    }
   ],
   "source": [
    "# Fit Exponential distribution\n",
    "lambda_hat = 1 / np.mean(declustered_inter_arrival)\n",
    "print(f\"Exponential: Estimated rate parameter (lambda): {lambda_hat:.6f} quakes per hour\")\n",
    "print(f\"Exponential: Mean inter-arrival time: {1/lambda_hat:.2f} hours\")\n",
    "\n",
    "# Perform KS test for exponential fit\n",
    "ks_stat_exp, p_value_exp = kstest(declustered_inter_arrival, 'expon', args=(0, 1/lambda_hat))\n",
    "print(f\"Exponential KS Test: Statistic={ks_stat_exp:.4f}, p-value={p_value_exp:.4f}\")\n",
    "if p_value_exp < 0.05:\n",
    "    print(\"Warning: The data may not follow an exponential distribution (p < 0.05).\")\n",
    "    \n",
    "# Generate x-range for PDF (up to 99th percentile)\n",
    "x = np.linspace(0, np.percentile(declustered_inter_arrival, 99), 100)\n",
    "\n",
    "# Compute Exponential PDF\n",
    "exp_pdf = expon.pdf(x, scale=1/lambda_hat)"
   ]
  },
  {
   "cell_type": "markdown",
   "id": "748496b0-c892-4feb-ad06-5397923447c7",
   "metadata": {},
   "source": [
    "The Exponential model is statistically valid for this aftershock-free data, enabling reliable risk estimates for future quake timing.\n",
    "\n",
    "**Rate of Earthquakes (λ)**:\n",
    "0.0027 quakes/hour (`≈ 6.5 quakes/year`), meaning earthquakes are not rare in this filtered dataset.\n",
    "\n",
    "**Goodness-of-Fit (KS Test)**:\n",
    "- KS Statistic = 0.038 (close to 0 → `good fit`).\n",
    "\n",
    "- p-value = 0.30 (> 0.05) → `Fail to reject H₀` (data consistent with Exponential distribution)."
   ]
  },
  {
   "cell_type": "code",
   "execution_count": 21,
   "id": "74710a17-d680-4adc-ae01-81a8906f9322",
   "metadata": {
    "tags": []
   },
   "outputs": [
    {
     "data": {
      "image/png": "[encoded data removed]",
      "text/plain": [
       "<Figure size 1000x600 with 1 Axes>"
      ]
     },
     "metadata": {},
     "output_type": "display_data"
    },
    {
     "data": {
      "image/png": "[encoded data removed]",
      "text/plain": [
       "<Figure size 800x500 with 1 Axes>"
      ]
     },
     "metadata": {},
     "output_type": "display_data"
    }
   ],
   "source": [
    "# Plot 1: Histogram with Exponential PDF\n",
    "plt.figure(figsize=(10, 6))\n",
    "plt.hist(declustered_inter_arrival, bins=50, density=True, alpha=0.6, label=\"Observed Data\")\n",
    "plt.plot(x, exp_pdf, 'r-', lw=2, label=f\"Exponential PDF (λ={lambda_hat:.6f}/hr)\")\n",
    "plt.xlabel(\"Time Between Earthquakes (hours, adjusted)\")\n",
    "plt.ylabel(\"Probability Density\")\n",
    "plt.title(\"Time Between Earthquakes in Japan (Declustered, Adjusted)\")\n",
    "plt.legend()\n",
    "plt.grid(True, alpha=0.3)\n",
    "plt.show()\n",
    "\n",
    "# Plot 2: Q-Q Plot for Exponential Distribution\n",
    "plt.figure(figsize=(8, 5))\n",
    "probplot(declustered_inter_arrival, dist=\"expon\", sparams=(0, 1/lambda_hat), plot=plt)\n",
    "plt.title(\"Q-Q Plot: Declustered Inter-arrival Times vs. Exponential\")\n",
    "plt.grid(True, alpha=0.3)\n",
    "plt.show()"
   ]
  },
  {
   "cell_type": "markdown",
   "id": "ffd70236-bb70-4a7a-b8eb-e8e534e75c49",
   "metadata": {},
   "source": [
    "- A histogram of observed times between quakes.\n",
    "\n",
    "- A red curve showing the Exponential PDF fitted to the data.\n",
    "\n",
    "- Q-Q plot shows the exponential fit (blue dots to red line)."
   ]
  },
  {
   "cell_type": "markdown",
   "id": "3205ba9d-1808-474b-8d3a-18cdd11cd7ba",
   "metadata": {},
   "source": [
    "### Hazard Rate Analysis"
   ]
  },
  {
   "cell_type": "markdown",
   "id": "f3a5dd6a-e087-4296-9bad-7ef2a8576d92",
   "metadata": {},
   "source": [
    "**Probability of Earthquakes in Different Time Windows:**\n",
    "\n",
    "Probability of another quake within X hours"
   ]
  },
  {
   "cell_type": "code",
   "execution_count": 59,
   "id": "0960bead-d67f-4a55-9f2c-3bf01f94de60",
   "metadata": {
    "tags": []
   },
   "outputs": [
    {
     "name": "stdout",
     "output_type": "stream",
     "text": [
      "Probability of another quake within 12 hours: 3.22%\n",
      "Probability of another quake within 24 hours: 6.34%\n",
      "Probability of another quake within 48 hours: 12.27%\n",
      "Probability of another quake within 168 hours: 36.75%\n"
     ]
    }
   ],
   "source": [
    "# Probability of another quake within different time windows\n",
    "time_windows = [12, 24, 48, 168]  # hours\n",
    "for t in time_windows:\n",
    "    prob = expon.cdf(t, scale=1/lambda_hat)  \n",
    "    print(f\"Probability of another quake within {t} hours: {prob:.2%}\")"
   ]
  },
  {
   "cell_type": "markdown",
   "id": "48fc3a1e-ff03-45ae-98dd-bbee1cd4807f",
   "metadata": {
    "tags": []
   },
   "source": [
    "**Earthquakes waiting time:**\n",
    "\n",
    "What’s the Xth percentile waiting time?"
   ]
  },
  {
   "cell_type": "code",
   "execution_count": 53,
   "id": "bab9b5eb-598f-4e8a-aead-6a06779ca711",
   "metadata": {},
   "outputs": [
    {
     "name": "stdout",
     "output_type": "stream",
     "text": [
      "50% of quakes occur within 254.2 hours after the last one.\n",
      "95% of quakes occur within 1098.5 hours after the last one.\n",
      "99% of quakes occur within 1688.7 hours after the last one.\n"
     ]
    }
   ],
   "source": [
    "percentiles = [0.5, 0.95, 0.99]\n",
    "for p in percentiles:\n",
    "    wait_time = expon.ppf(p, scale=1/lambda_hat)\n",
    "    print(f\"{int(p*100)}% of quakes occur within {wait_time:.1f} hours after the last one.\")"
   ]
  },
  {
   "cell_type": "markdown",
   "id": "b547d34f-3881-421f-845b-78b5274e1ea3",
   "metadata": {},
   "source": [
    "**Expected Number of Earthquakes in a Time Period:**\n",
    "\n",
    "Since the exponential distribution models a Poisson process, the rate parameter *lambda_hat* can estimate the expected number of earthquakes in a given period."
   ]
  },
  {
   "cell_type": "code",
   "execution_count": 33,
   "id": "69d5104f-bcc8-44f1-ad81-109d3045c6ed",
   "metadata": {
    "tags": []
   },
   "outputs": [
    {
     "name": "stdout",
     "output_type": "stream",
     "text": [
      "Expected number of quakes in 24 hours: 0\n",
      "Expected number of quakes in 360 hours: 1\n",
      "Expected number of quakes in 720 hours: 2\n"
     ]
    }
   ],
   "source": [
    "time_periods = [24, 360, 720]  # hours (1d, 1w, 30d)\n",
    "for t in time_periods:\n",
    "    expected_quakes = lambda_hat * t\n",
    "    print(f\"Expected number of quakes in {t} hours: {round(expected_quakes)}\")"
   ]
  },
  {
   "cell_type": "markdown",
   "id": "54eedd87-2e1b-4e52-9a04-0c47672bc7c9",
   "metadata": {},
   "source": [
    "**Comparison by Magnitude:**\n",
    "\n",
    "Inter-arrival times for different magnitude ranges (e.g., 5–7, ≥7) to see if stronger earthquakes have different temporal patterns."
   ]
  },
  {
   "cell_type": "code",
   "execution_count": 47,
   "id": "c4af7ef3-09be-4316-b052-f17affd0af34",
   "metadata": {
    "tags": []
   },
   "outputs": [
    {
     "name": "stdout",
     "output_type": "stream",
     "text": [
      "Magnitude 5-7: lambda=0.002756/hr, mean=362.87 hours\n",
      "Magnitude 7-10: lambda=0.002256/hr, mean=443.32 hours\n"
     ]
    }
   ],
   "source": [
    "magnitude_bins = [ (5, 7), (7, 10)]\n",
    "for min_mag, max_mag in magnitude_bins:\n",
    "    subset = japan_quakes[(japan_quakes[\"Magnitude\"] >= min_mag) & (japan_quakes[\"Magnitude\"] < max_mag)]\n",
    "    subset_times = subset[\"TimeDiff\"].dropna()\n",
    "    subset_declustered = subset_times[(subset_times > 0) & (subset_times > aftershock_threshold)] - aftershock_threshold\n",
    "    if len(subset_declustered) > 0:\n",
    "        lambda_subset = 1 / np.mean(subset_declustered)\n",
    "        print(f\"Magnitude {min_mag}-{max_mag}: lambda={lambda_subset:.6f}/hr, mean={1/lambda_subset:.2f} hours\")"
   ]
  },
  {
   "cell_type": "code",
   "execution_count": null,
   "id": "c1288133-aa58-4a6a-92ad-2cd3f8b6d039",
   "metadata": {},
   "outputs": [],
   "source": []
  }
 ],
 "metadata": {
  "kernelspec": {
   "display_name": "Python 3 (ipykernel)",
   "language": "python",
   "name": "python3"
  },
  "language_info": {
   "codemirror_mode": {
    "name": "ipython",
    "version": 3
   },
   "file_extension": ".py",
   "mimetype": "text/x-python",
   "name": "python",
   "nbconvert_exporter": "python",
   "pygments_lexer": "ipython3",
   "version": "3.11.7"
  }
 },
 "nbformat": 4,
 "nbformat_minor": 5
}
